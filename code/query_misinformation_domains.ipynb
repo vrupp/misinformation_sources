{
 "cells": [
  {
   "cell_type": "code",
   "execution_count": 1,
   "metadata": {},
   "outputs": [
    {
     "name": "stdout",
     "output_type": "stream",
     "text": [
      "The autoreload extension is already loaded. To reload it, use:\n",
      "  %reload_ext autoreload\n"
     ]
    }
   ],
   "source": [
    "%load_ext autoreload\n",
    "%autoreload 2\n",
    "\n",
    "import os\n",
    "from os.path import join\n",
    "import json\n",
    "import pandas as pd\n",
    "import twitter_functions as tf\n",
    "import ct_functions as ctf\n",
    "import time\n",
    "import matplotlib.pyplot as plt\n",
    "import numpy as np\n",
    "import math\n",
    "\n",
    "from importlib import reload"
   ]
  },
  {
   "cell_type": "code",
   "execution_count": 2,
   "metadata": {},
   "outputs": [],
   "source": [
    "domain_src = '../resources/domains/clean'\n",
    "domains = pd.read_csv(join(domain_src, 'domain_list_clean.csv'))\n",
    "domains['active'] = 'unknown'\n",
    "harmful_domains = domains[domains['type'] == \"unreliable\"]"
   ]
  },
  {
   "cell_type": "markdown",
   "metadata": {},
   "source": [
    "# Query tweets containing misinformation domains"
   ]
  },
  {
   "cell_type": "markdown",
   "metadata": {},
   "source": [
    "Query the full archival endpoint for every domain with a harm score > 6 to see if there were tweets mentioning that domain in the last month (April 24th to May 24th 2021). "
   ]
  },
  {
   "cell_type": "code",
   "execution_count": 3,
   "metadata": {},
   "outputs": [],
   "source": [
    "with open(\"api-keys/valentin.json\") as f:\n",
    "    api_keys = json.load(f)"
   ]
  },
  {
   "cell_type": "code",
   "execution_count": null,
   "metadata": {
    "collapsed": true,
    "jupyter": {
     "outputs_hidden": true
    },
    "tags": []
   },
   "outputs": [],
   "source": [
    "reload(tf)\n",
    "\n",
    "tweet_dst = '../resources/tweets'\n",
    "\n",
    "# query parameters: query returns a maximum number of 10 tweets for the given\n",
    "# query\n",
    "with open('params/misinfo_user_query.json') as json_file:\n",
    "    params = json.load(json_file)\n",
    "\n",
    "for index, domain in harmful_domains['url'].iteritems():\n",
    "    print(index, domain)\n",
    "    params['query'] = domain\n",
    "    tweet_file_name = '{}.txt'.format(domain).replace('/', '_')\n",
    "    \n",
    "    config = {\n",
    "      \"bearer_token\": api_keys[\"bearer-token\"],\n",
    "      \"params\": params,\n",
    "      \"write_path\": join(tweet_dst, tweet_file_name)\n",
    "    }\n",
    "\n",
    "    tf.validate_config(config)\n",
    "    \n",
    "    count = 0\n",
    "    next_token = None\n",
    "\n",
    "    while count < config['params']['max_results']:\n",
    "\n",
    "        json_response, error = tf.search_tweets(config, next_token, all=False)\n",
    "        if error:\n",
    "            with open(join(tweet_dst, \"error-\" + tweet_file_name), \"w\") as f:\n",
    "                json.dump(json_response, f)\n",
    "            break\n",
    "        else:\n",
    "            tweets = tf.get_formatted_tweets(json_response)\n",
    "            # if the query returned tweets, save them for good measure, even if\n",
    "            # we don't need them at this point\n",
    "            if len(tweets) > 0:\n",
    "                tf.write_to_file(config['write_path'], tweets)\n",
    "            \n",
    "            # store the number of tweets retrieved by the query in the \"active\"\n",
    "            # column. Most queries will yield 0 or max_tweets (=10) tweets, but\n",
    "            # there will be a few that yield something in between. Thats interesting\n",
    "            # information.\n",
    "            domains.loc[index, 'active'] = len(tweets)\n",
    "            result_count = json_response['meta']['result_count']\n",
    "            count += result_count\n",
    "\n",
    "            # since we are only querying a maximum of 10 tweets here, this should\n",
    "            # not be invoked.\n",
    "            if 'meta' in json_response and 'next_token' in json_response['meta']:\n",
    "                next_token = json_response['meta']['next_token']\n",
    "            else:\n",
    "                break\n",
    "            \n",
    "active = domains[(domains['harm_score'] > 6)]\n",
    "active = active[active['active'] >= 10]\n",
    "active.to_csv(join('../resources/domains/active/domain_list_active.csv'), index=False)"
   ]
  },
  {
   "cell_type": "code",
   "execution_count": 170,
   "metadata": {},
   "outputs": [
    {
     "data": {
      "image/png": "[encoded data removed]",
      "text/plain": [
       "<Figure size 432x288 with 1 Axes>"
      ]
     },
     "metadata": {
      "needs_background": "light"
     },
     "output_type": "display_data"
    }
   ],
   "source": [
    "fig, ax = plt.subplots()\n",
    "active = domains[domains['harm_score'] > 6]\n",
    "ax.hist(active['active'], rwidth=0.8, bins=np.arange(-0.5, 11.5, 1))\n",
    "ax.text(2, 1000, '{} active domains'\\\n",
    "        .format(len(active[active['active'] >= 10])), fontsize=16)\n",
    "ax.set_xticks(range(0, 11, 2))\n",
    "ax.set_xticklabels(list(range(0, 10, 2)) + ['>= 10'])\n",
    "ax.set_ylabel('domain count')\n",
    "ax.set_xlabel('tweets containing domain [April 24th - May 24th 2021]')\n",
    "plt.savefig('../plots/domains/tw_active_domains.pdf')"
   ]
  },
  {
   "cell_type": "markdown",
   "metadata": {},
   "source": [
    "# Query CrowdTangle for misinformation domains"
   ]
  },
  {
   "cell_type": "code",
   "execution_count": 3,
   "metadata": {},
   "outputs": [],
   "source": [
    "# Write CrowdTangle query string in separate file\n",
    "domain_list = harmful_domains[\"url\"].values\n",
    "for i in range(math.ceil(len(domain_list) / 1024)):\n",
    "    with open(f\"configs/ct-query-batch{i}.txt\", \"w\") as f:\n",
    "        start, end = i * 1024, (i + 1) * 1024\n",
    "        f.write(\",\".join(domain_list[start:end]))"
   ]
  },
  {
   "cell_type": "code",
   "execution_count": 4,
   "metadata": {},
   "outputs": [],
   "source": [
    "list_ids = {\n",
    "    \"pages\": [\"1551087\", \"1551566\", \"1551567\"],\n",
    "    \"groups\": [\"1551568\", \"1551571\", \"1551575\"]\n",
    "}\n",
    "ct_src = \"../resources/ct\"\n",
    "posts_src = \"../resources/ct-posts\"\n",
    "links_src = \"../resources/ct-links\"\n",
    "for src in [ct_src, posts_src, links_src]:\n",
    "    if not os.path.exists(src):\n",
    "        os.mkdir(src)"
   ]
  },
  {
   "cell_type": "code",
   "execution_count": 161,
   "metadata": {
    "tags": []
   },
   "outputs": [],
   "source": [
    "params = {\n",
    "    \"token\": \"9J4LRiuCxEO51I296LzpYByxieGg2heIyZVUYR7I\",\n",
    "    \"listIds\": \",\".join(list_ids[\"pages\"] + list_ids[\"groups\"]),\n",
    "    \"sortBy\": \"date\"\n",
    "}\n",
    "ctf.get_posts(params, posts_src, max_queries=42)"
   ]
  },
  {
   "cell_type": "code",
   "execution_count": 5,
   "metadata": {},
   "outputs": [
    {
     "name": "stderr",
     "output_type": "stream",
     "text": [
      "100%|██████████| 2154/2154 [2:29:51<00:00,  4.17s/it]\n"
     ]
    }
   ],
   "source": [
    "params = {\n",
    "    \"token\": \"9J4LRiuCxEO51I296LzpYByxieGg2heIyZVUYR7I\",\n",
    "    \"sortBy\": \"date\"\n",
    "}\n",
    "ctf.get_links(domain_list, params, links_src, max_queries=None, max_queries_per_link=1)"
   ]
  },
  {
   "cell_type": "code",
   "execution_count": 7,
   "metadata": {},
   "outputs": [
    {
     "name": "stderr",
     "output_type": "stream",
     "text": [
      "c:\\Users\\Valentin\\Documents\\Studium\\12. Semester - Masterarbeit\\misinformation_tools\\.venv\\lib\\site-packages\\pandas\\core\\indexing.py:1720: SettingWithCopyWarning: \n",
      "A value is trying to be set on a copy of a slice from a DataFrame.\n",
      "Try using .loc[row_indexer,col_indexer] = value instead\n",
      "\n",
      "See the caveats in the documentation: https://pandas.pydata.org/pandas-docs/stable/user_guide/indexing.html#returning-a-view-versus-a-copy\n",
      "  self._setitem_single_column(loc, value, pi)\n"
     ]
    }
   ],
   "source": [
    "domain_indices = pd.read_csv(join(links_src, \"domain-indices.csv\"))\n",
    "for index, domain in harmful_domains['url'].iteritems():\n",
    "    path = join(links_src, f\"link{index}-0.json\")\n",
    "    if os.path.exists(path):\n",
    "        with open(join(links_src, f\"link{index}-0.json\"), \"r\") as f:\n",
    "            link_posts = json.load(f)[\"posts\"]\n",
    "            harmful_domains.loc[index, 'active'] = len(link_posts)\n",
    "    else:\n",
    "        harmful_domains.loc[index, 'active'] = 0"
   ]
  },
  {
   "cell_type": "code",
   "execution_count": 8,
   "metadata": {},
   "outputs": [
    {
     "data": {
      "image/png": "[encoded data removed]",
      "text/plain": [
       "<Figure size 432x288 with 1 Axes>"
      ]
     },
     "metadata": {
      "needs_background": "light"
     },
     "output_type": "display_data"
    }
   ],
   "source": [
    "fig, ax = plt.subplots()\n",
    "ax.hist(harmful_domains['active'], rwidth=0.8, bins=np.arange(-0.5, 11.5, 1))\n",
    "ax.text(2, 1000, f\"{len(harmful_domains[harmful_domains['active'] >= 10])} active domains\", fontsize=16)\n",
    "ax.set_xticks(range(0, 11, 2))\n",
    "ax.set_xticklabels(list(range(0, 10, 2)) + ['>= 10'])\n",
    "ax.set_ylabel('domain count')\n",
    "ax.set_xlabel('tweets containing domain [April 24th - May 24th 2021]')\n",
    "plt.savefig('../plots/domains/ct_active_domains.pdf')"
   ]
  },
  {
   "cell_type": "code",
   "execution_count": 25,
   "metadata": {},
   "outputs": [
    {
     "data": {
      "text/html": [
       "<div>\n",
       "<style scoped>\n",
       "    .dataframe tbody tr th:only-of-type {\n",
       "        vertical-align: middle;\n",
       "    }\n",
       "\n",
       "    .dataframe tbody tr th {\n",
       "        vertical-align: top;\n",
       "    }\n",
       "\n",
       "    .dataframe thead th {\n",
       "        text-align: right;\n",
       "    }\n",
       "</style>\n",
       "<table border=\"1\" class=\"dataframe\">\n",
       "  <thead>\n",
       "    <tr style=\"text-align: right;\">\n",
       "      <th></th>\n",
       "      <th>url</th>\n",
       "      <th>label</th>\n",
       "      <th>source</th>\n",
       "      <th>last_update</th>\n",
       "      <th>accuracy</th>\n",
       "      <th>transparency</th>\n",
       "      <th>type</th>\n",
       "      <th>active</th>\n",
       "    </tr>\n",
       "  </thead>\n",
       "  <tbody>\n",
       "    <tr>\n",
       "      <th>2135</th>\n",
       "      <td>cap-news.com</td>\n",
       "      <td>fake</td>\n",
       "      <td>columbia_journalism_review</td>\n",
       "      <td>2021-04</td>\n",
       "      <td>1</td>\n",
       "      <td>1</td>\n",
       "      <td>unreliable</td>\n",
       "      <td>1000</td>\n",
       "    </tr>\n",
       "    <tr>\n",
       "      <th>888</th>\n",
       "      <td>lacucinasiciliana.altervista.org</td>\n",
       "      <td>pseudojournalism blogs</td>\n",
       "      <td>butac</td>\n",
       "      <td>2021-05-18</td>\n",
       "      <td>1</td>\n",
       "      <td>1</td>\n",
       "      <td>unreliable</td>\n",
       "      <td>1000</td>\n",
       "    </tr>\n",
       "    <tr>\n",
       "      <th>598</th>\n",
       "      <td>usapoliticszone.com</td>\n",
       "      <td>fake news</td>\n",
       "      <td>girnberg</td>\n",
       "      <td>2019-01-28</td>\n",
       "      <td>1</td>\n",
       "      <td>1</td>\n",
       "      <td>unreliable</td>\n",
       "      <td>1000</td>\n",
       "    </tr>\n",
       "    <tr>\n",
       "      <th>1103</th>\n",
       "      <td>altrarealta.blogspot.it</td>\n",
       "      <td>conspiracy blogs</td>\n",
       "      <td>butac</td>\n",
       "      <td>2021-05-18</td>\n",
       "      <td>1</td>\n",
       "      <td>1</td>\n",
       "      <td>unreliable</td>\n",
       "      <td>1000</td>\n",
       "    </tr>\n",
       "    <tr>\n",
       "      <th>593</th>\n",
       "      <td>usanewshome.com</td>\n",
       "      <td>fake news</td>\n",
       "      <td>girnberg</td>\n",
       "      <td>2019-01-28</td>\n",
       "      <td>1</td>\n",
       "      <td>1</td>\n",
       "      <td>unreliable</td>\n",
       "      <td>1000</td>\n",
       "    </tr>\n",
       "  </tbody>\n",
       "</table>\n",
       "</div>"
      ],
      "text/plain": [
       "                                   url                   label  \\\n",
       "2135                      cap-news.com                    fake   \n",
       "888   lacucinasiciliana.altervista.org  pseudojournalism blogs   \n",
       "598                usapoliticszone.com               fake news   \n",
       "1103           altrarealta.blogspot.it        conspiracy blogs   \n",
       "593                    usanewshome.com               fake news   \n",
       "\n",
       "                          source last_update  accuracy  transparency  \\\n",
       "2135  columbia_journalism_review     2021-04         1             1   \n",
       "888                        butac  2021-05-18         1             1   \n",
       "598                     girnberg  2019-01-28         1             1   \n",
       "1103                       butac  2021-05-18         1             1   \n",
       "593                     girnberg  2019-01-28         1             1   \n",
       "\n",
       "            type active  \n",
       "2135  unreliable   1000  \n",
       "888   unreliable   1000  \n",
       "598   unreliable   1000  \n",
       "1103  unreliable   1000  \n",
       "593   unreliable   1000  "
      ]
     },
     "execution_count": 25,
     "metadata": {},
     "output_type": "execute_result"
    }
   ],
   "source": [
    "harmful_domains.sort_values(by=\"active\", ascending=False).head()"
   ]
  },
  {
   "cell_type": "code",
   "execution_count": 20,
   "metadata": {},
   "outputs": [],
   "source": [
    "# merge all files\n",
    "link_posts = []\n",
    "for f_name in os.listdir(links_src):\n",
    "    if f_name.endswith(\".json\"):\n",
    "        with open(join(links_src, f_name)) as f:\n",
    "            link_posts += json.load(f)[\"posts\"]\n",
    "with open(join(ct_src, \"links.json\"), \"w\") as f:\n",
    "    json.dump(link_posts, f)"
   ]
  },
  {
   "cell_type": "code",
   "execution_count": 21,
   "metadata": {},
   "outputs": [
    {
     "data": {
      "text/plain": [
       "(209266, 25)"
      ]
     },
     "execution_count": 21,
     "metadata": {},
     "output_type": "execute_result"
    }
   ],
   "source": [
    "posts_df = pd.read_json(join(ct_src, \"links.json\"))\n",
    "posts_df.shape"
   ]
  },
  {
   "cell_type": "code",
   "execution_count": 22,
   "metadata": {},
   "outputs": [
    {
     "data": {
      "text/plain": [
       "(Timestamp('2021-08-24 11:19:02'), Timestamp('2021-09-23 11:41:42'))"
      ]
     },
     "execution_count": 22,
     "metadata": {},
     "output_type": "execute_result"
    }
   ],
   "source": [
    "posts_df[\"date\"].min(), posts_df[\"date\"].max()"
   ]
  },
  {
   "cell_type": "code",
   "execution_count": 23,
   "metadata": {},
   "outputs": [
    {
     "data": {
      "text/html": [
       "<div>\n",
       "<style scoped>\n",
       "    .dataframe tbody tr th:only-of-type {\n",
       "        vertical-align: middle;\n",
       "    }\n",
       "\n",
       "    .dataframe tbody tr th {\n",
       "        vertical-align: top;\n",
       "    }\n",
       "\n",
       "    .dataframe thead th {\n",
       "        text-align: right;\n",
       "    }\n",
       "</style>\n",
       "<table border=\"1\" class=\"dataframe\">\n",
       "  <thead>\n",
       "    <tr style=\"text-align: right;\">\n",
       "      <th></th>\n",
       "      <th>platformId</th>\n",
       "      <th>platform</th>\n",
       "      <th>date</th>\n",
       "      <th>updated</th>\n",
       "      <th>type</th>\n",
       "      <th>description</th>\n",
       "      <th>expandedLinks</th>\n",
       "      <th>link</th>\n",
       "      <th>postUrl</th>\n",
       "      <th>subscriberCount</th>\n",
       "      <th>...</th>\n",
       "      <th>legacyId</th>\n",
       "      <th>id</th>\n",
       "      <th>title</th>\n",
       "      <th>caption</th>\n",
       "      <th>message</th>\n",
       "      <th>imageText</th>\n",
       "      <th>videoLengthMS</th>\n",
       "      <th>likeAndViewCountsDisabled</th>\n",
       "      <th>liveVideoStatus</th>\n",
       "      <th>brandedContentSponsor</th>\n",
       "    </tr>\n",
       "  </thead>\n",
       "  <tbody>\n",
       "    <tr>\n",
       "      <th>0</th>\n",
       "      <td>1.001496e+29</td>\n",
       "      <td>Facebook</td>\n",
       "      <td>2021-09-23 10:10:22</td>\n",
       "      <td>2021-09-23 10:12:19</td>\n",
       "      <td>photo</td>\n",
       "      <td>The exports of cutlery from the country witnes...</td>\n",
       "      <td>[{'original': 'rb.gy/ajpkjk', 'expanded': 'htt...</td>\n",
       "      <td>https://www.facebook.com/tdapofficial/photos/a...</td>\n",
       "      <td>https://www.facebook.com/100149588172966/posts...</td>\n",
       "      <td>1599</td>\n",
       "      <td>...</td>\n",
       "      <td>0</td>\n",
       "      <td>11092849|400406368147285</td>\n",
       "      <td>NaN</td>\n",
       "      <td>NaN</td>\n",
       "      <td>NaN</td>\n",
       "      <td>NaN</td>\n",
       "      <td>NaN</td>\n",
       "      <td>NaN</td>\n",
       "      <td>NaN</td>\n",
       "      <td>NaN</td>\n",
       "    </tr>\n",
       "    <tr>\n",
       "      <th>1</th>\n",
       "      <td>5.738330e+27</td>\n",
       "      <td>Facebook</td>\n",
       "      <td>2021-09-23 07:16:38</td>\n",
       "      <td>2021-09-23 10:19:26</td>\n",
       "      <td>link</td>\n",
       "      <td>Eruptions from a volcanic grew in intensity We...</td>\n",
       "      <td>[{'original': 'https://nation.com.pk/23-Sep-20...</td>\n",
       "      <td>https://nation.com.pk/23-Sep-2021/volcanic-eru...</td>\n",
       "      <td>https://www.facebook.com/57383301711/posts/101...</td>\n",
       "      <td>1504214</td>\n",
       "      <td>...</td>\n",
       "      <td>0</td>\n",
       "      <td>5729|10158149883776712</td>\n",
       "      <td>Volcanic eruptions intensify on Spain's Canary...</td>\n",
       "      <td>nation.com.pk</td>\n",
       "      <td>Roads on the island have been closed for a wee...</td>\n",
       "      <td>NaN</td>\n",
       "      <td>NaN</td>\n",
       "      <td>NaN</td>\n",
       "      <td>NaN</td>\n",
       "      <td>NaN</td>\n",
       "    </tr>\n",
       "    <tr>\n",
       "      <th>2</th>\n",
       "      <td>5.738330e+27</td>\n",
       "      <td>Facebook</td>\n",
       "      <td>2021-09-23 07:00:15</td>\n",
       "      <td>2021-09-23 10:19:26</td>\n",
       "      <td>link</td>\n",
       "      <td>Changes in the cabinet have become a regularit...</td>\n",
       "      <td>[{'original': 'https://nation.com.pk/23-Sep-20...</td>\n",
       "      <td>https://nation.com.pk/23-Sep-2021/another-change</td>\n",
       "      <td>https://www.facebook.com/57383301711/posts/101...</td>\n",
       "      <td>1504214</td>\n",
       "      <td>...</td>\n",
       "      <td>0</td>\n",
       "      <td>5729|10158149868616712</td>\n",
       "      <td>Another Change</td>\n",
       "      <td>nation.com.pk</td>\n",
       "      <td>[Editorial] \"The leadership needs to consider ...</td>\n",
       "      <td>NaN</td>\n",
       "      <td>NaN</td>\n",
       "      <td>NaN</td>\n",
       "      <td>NaN</td>\n",
       "      <td>NaN</td>\n",
       "    </tr>\n",
       "    <tr>\n",
       "      <th>3</th>\n",
       "      <td>5.738330e+27</td>\n",
       "      <td>Facebook</td>\n",
       "      <td>2021-09-23 06:48:58</td>\n",
       "      <td>2021-09-23 10:19:26</td>\n",
       "      <td>link</td>\n",
       "      <td>A US Think-tank, Freedom House, released their...</td>\n",
       "      <td>[{'original': 'https://nation.com.pk/23-Sep-20...</td>\n",
       "      <td>https://nation.com.pk/23-Sep-2021/online-freedoms</td>\n",
       "      <td>https://www.facebook.com/57383301711/posts/101...</td>\n",
       "      <td>1504214</td>\n",
       "      <td>...</td>\n",
       "      <td>0</td>\n",
       "      <td>5729|10158149867576712</td>\n",
       "      <td>Online Freedoms</td>\n",
       "      <td>nation.com.pk</td>\n",
       "      <td>[Editorial] \"We have made leaps in the field o...</td>\n",
       "      <td>NaN</td>\n",
       "      <td>NaN</td>\n",
       "      <td>NaN</td>\n",
       "      <td>NaN</td>\n",
       "      <td>NaN</td>\n",
       "    </tr>\n",
       "    <tr>\n",
       "      <th>4</th>\n",
       "      <td>5.738330e+27</td>\n",
       "      <td>Facebook</td>\n",
       "      <td>2021-09-23 06:33:22</td>\n",
       "      <td>2021-09-23 10:19:26</td>\n",
       "      <td>link</td>\n",
       "      <td>Prime Minister Imran Khan on Thursday congratu...</td>\n",
       "      <td>[{'original': 'https://nation.com.pk/23-Sep-20...</td>\n",
       "      <td>https://nation.com.pk/23-Sep-2021/pm-khan-cong...</td>\n",
       "      <td>https://www.facebook.com/57383301711/posts/101...</td>\n",
       "      <td>1504214</td>\n",
       "      <td>...</td>\n",
       "      <td>0</td>\n",
       "      <td>5729|10158149870621712</td>\n",
       "      <td>PM Khan congratulates Saudi leadership on Nati...</td>\n",
       "      <td>nation.com.pk</td>\n",
       "      <td>The premier wish the kingdom continued progres...</td>\n",
       "      <td>NaN</td>\n",
       "      <td>NaN</td>\n",
       "      <td>NaN</td>\n",
       "      <td>NaN</td>\n",
       "      <td>NaN</td>\n",
       "    </tr>\n",
       "  </tbody>\n",
       "</table>\n",
       "<p>5 rows × 25 columns</p>\n",
       "</div>"
      ],
      "text/plain": [
       "     platformId  platform                date              updated   type  \\\n",
       "0  1.001496e+29  Facebook 2021-09-23 10:10:22  2021-09-23 10:12:19  photo   \n",
       "1  5.738330e+27  Facebook 2021-09-23 07:16:38  2021-09-23 10:19:26   link   \n",
       "2  5.738330e+27  Facebook 2021-09-23 07:00:15  2021-09-23 10:19:26   link   \n",
       "3  5.738330e+27  Facebook 2021-09-23 06:48:58  2021-09-23 10:19:26   link   \n",
       "4  5.738330e+27  Facebook 2021-09-23 06:33:22  2021-09-23 10:19:26   link   \n",
       "\n",
       "                                         description  \\\n",
       "0  The exports of cutlery from the country witnes...   \n",
       "1  Eruptions from a volcanic grew in intensity We...   \n",
       "2  Changes in the cabinet have become a regularit...   \n",
       "3  A US Think-tank, Freedom House, released their...   \n",
       "4  Prime Minister Imran Khan on Thursday congratu...   \n",
       "\n",
       "                                       expandedLinks  \\\n",
       "0  [{'original': 'rb.gy/ajpkjk', 'expanded': 'htt...   \n",
       "1  [{'original': 'https://nation.com.pk/23-Sep-20...   \n",
       "2  [{'original': 'https://nation.com.pk/23-Sep-20...   \n",
       "3  [{'original': 'https://nation.com.pk/23-Sep-20...   \n",
       "4  [{'original': 'https://nation.com.pk/23-Sep-20...   \n",
       "\n",
       "                                                link  \\\n",
       "0  https://www.facebook.com/tdapofficial/photos/a...   \n",
       "1  https://nation.com.pk/23-Sep-2021/volcanic-eru...   \n",
       "2   https://nation.com.pk/23-Sep-2021/another-change   \n",
       "3  https://nation.com.pk/23-Sep-2021/online-freedoms   \n",
       "4  https://nation.com.pk/23-Sep-2021/pm-khan-cong...   \n",
       "\n",
       "                                             postUrl  subscriberCount  ...  \\\n",
       "0  https://www.facebook.com/100149588172966/posts...             1599  ...   \n",
       "1  https://www.facebook.com/57383301711/posts/101...          1504214  ...   \n",
       "2  https://www.facebook.com/57383301711/posts/101...          1504214  ...   \n",
       "3  https://www.facebook.com/57383301711/posts/101...          1504214  ...   \n",
       "4  https://www.facebook.com/57383301711/posts/101...          1504214  ...   \n",
       "\n",
       "   legacyId                        id  \\\n",
       "0         0  11092849|400406368147285   \n",
       "1         0    5729|10158149883776712   \n",
       "2         0    5729|10158149868616712   \n",
       "3         0    5729|10158149867576712   \n",
       "4         0    5729|10158149870621712   \n",
       "\n",
       "                                               title        caption  \\\n",
       "0                                                NaN            NaN   \n",
       "1  Volcanic eruptions intensify on Spain's Canary...  nation.com.pk   \n",
       "2                                     Another Change  nation.com.pk   \n",
       "3                                    Online Freedoms  nation.com.pk   \n",
       "4  PM Khan congratulates Saudi leadership on Nati...  nation.com.pk   \n",
       "\n",
       "                                             message  imageText videoLengthMS  \\\n",
       "0                                                NaN        NaN           NaN   \n",
       "1  Roads on the island have been closed for a wee...        NaN           NaN   \n",
       "2  [Editorial] \"The leadership needs to consider ...        NaN           NaN   \n",
       "3  [Editorial] \"We have made leaps in the field o...        NaN           NaN   \n",
       "4  The premier wish the kingdom continued progres...        NaN           NaN   \n",
       "\n",
       "  likeAndViewCountsDisabled liveVideoStatus brandedContentSponsor  \n",
       "0                       NaN             NaN                   NaN  \n",
       "1                       NaN             NaN                   NaN  \n",
       "2                       NaN             NaN                   NaN  \n",
       "3                       NaN             NaN                   NaN  \n",
       "4                       NaN             NaN                   NaN  \n",
       "\n",
       "[5 rows x 25 columns]"
      ]
     },
     "execution_count": 23,
     "metadata": {},
     "output_type": "execute_result"
    }
   ],
   "source": [
    "posts_df.head()"
   ]
  }
 ],
 "metadata": {
  "interpreter": {
   "hash": "ea4fe946a36566a0fd362ba423ccdafec16fa2b71ef7e9e2f95265d11ec84def"
  },
  "kernelspec": {
   "display_name": "Python 3.8.10 64-bit ('.venv': venv)",
   "name": "python3"
  },
  "language_info": {
   "codemirror_mode": {
    "name": "ipython",
    "version": 3
   },
   "file_extension": ".py",
   "mimetype": "text/x-python",
   "name": "python",
   "nbconvert_exporter": "python",
   "pygments_lexer": "ipython3",
   "version": "3.8.10"
  },
  "metadata": {
   "interpreter": {
    "hash": "a3ee8f6de32f912c3588b872fb16315714d8a3baa278eefa4746e51982af5eb6"
   }
  }
 },
 "nbformat": 4,
 "nbformat_minor": 5
}
