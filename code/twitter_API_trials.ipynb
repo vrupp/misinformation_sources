{
 "cells": [
  {
   "cell_type": "markdown",
   "id": "recorded-enough",
   "metadata": {},
   "source": [
    "# API tests"
   ]
  },
  {
   "cell_type": "code",
   "execution_count": 8,
   "id": "studied-theta",
   "metadata": {},
   "outputs": [],
   "source": [
    "import os\n",
    "import json\n",
    "import twitter_functions as tf # custom utility functions\n",
    "\n",
    "from importlib import reload"
   ]
  },
  {
   "cell_type": "markdown",
   "id": "8075d888-6acc-4597-8357-5c10139c57d5",
   "metadata": {},
   "source": [
    "Some helpful articles and documentation\n",
    "* [Search query builder to validate queries](https://twitter-query-builder.glitch.me/)\n",
    "* [List of operators here](https://developer.twitter.com/en/docs/twitter-api/tweets/search/integrate/build-a-query#availability) \n",
    "* [Keep an eye open for the twarc utility](https://github.com/DocNow/twarc/wiki/twarc2)\n",
    "* [Surhem Parack's office hours](https://twittercommunity.com/t/announcing-monthly-office-hours-for-the-academic-research-product-track/151028) \n",
    "* [Twitter API v2 sample codes](https://github.com/twitterdev/Twitter-API-v2-sample-code)\n",
    "* [My project dashboard](https://developer.twitter.com/en/portal/dashboard)\n",
    "* [Tools for Twitter project](https://github.com/texifter/tools-for-twitter/blob/main/run_twitter_search_all.py)"
   ]
  },
  {
   "cell_type": "code",
   "execution_count": 11,
   "id": "modular-dominant",
   "metadata": {},
   "outputs": [],
   "source": [
    "# read the api key\n",
    "API_info = {}\n",
    "with open(\"twitter_API.txt\") as f:\n",
    "    for line in f:\n",
    "        key, val = line.partition(\"=\")[::2]\n",
    "        if key == 'bearer_token':\n",
    "            API_info[key] = val.strip('\\n')\n",
    "            \n",
    "bearer_token = API_info['bearer_token']"
   ]
  },
  {
   "cell_type": "markdown",
   "id": "spread-cooperation",
   "metadata": {},
   "source": [
    "## Tutorial example"
   ]
  },
  {
   "cell_type": "code",
   "execution_count": 12,
   "id": "5203e825-516f-433a-897e-16d32c7f3213",
   "metadata": {},
   "outputs": [],
   "source": [
    "with open('configs/test_config.json') as json_file:\n",
    "    params = json.load(json_file)"
   ]
  },
  {
   "cell_type": "code",
   "execution_count": 22,
   "id": "e4a0baa6-9ac2-4cd7-879a-fe376e64de24",
   "metadata": {},
   "outputs": [
    {
     "data": {
      "text/plain": [
       "<module 'twitter_functions' from '/home/jana/Projects/CSS_twitter_inoculation/analysis/code/twitter_functions.py'>"
      ]
     },
     "execution_count": 22,
     "metadata": {},
     "output_type": "execute_result"
    }
   ],
   "source": [
    "reload(tf)"
   ]
  },
  {
   "cell_type": "code",
   "execution_count": 18,
   "id": "ca31a6a7-ad4f-491a-8d6c-a6078e773f39",
   "metadata": {},
   "outputs": [],
   "source": [
    "config = {\n",
    "  \"bearer_token\": bearer_token,\n",
    "  \"params\": params,\n",
    "  \"write_path\": \"../resources/tweets.txt\"\n",
    "}\n",
    "\n",
    "tf.validate_config(config)"
   ]
  },
  {
   "cell_type": "code",
   "execution_count": 23,
   "id": "descending-vinyl",
   "metadata": {},
   "outputs": [],
   "source": [
    "\n",
    "count = 0\n",
    "next_token = None\n",
    "\n",
    "if 'params' in config and 'max_results' in config['params']:\n",
    "    max_results = config['params']['max_results']\n",
    "else:\n",
    "    max_results = 500\n",
    "\n",
    "while count < max_results:\n",
    "\n",
    "    json_response = tf.search_tweets(config, next_token)\n",
    "    tweets = tf.get_formatted_tweets(json_response)\n",
    "    tf.write_to_file(config['write_path'], tweets)\n",
    "    result_count = json_response['meta']['result_count']\n",
    "    count += result_count\n",
    "\n",
    "    if 'meta' in json_response and 'next_token' in json_response['meta']:\n",
    "        next_token = json_response['meta']['next_token']\n",
    "    else:\n",
    "        break"
   ]
  },
  {
   "cell_type": "code",
   "execution_count": 24,
   "id": "assisted-energy",
   "metadata": {},
   "outputs": [
    {
     "data": {
      "text/plain": [
       "{'text': 'RT @monicaoltra: Voleu saber una bona notícia⁉️\\n\\n➡️”En dos hospitales valencianos no hay enfermos covid y en ocho ninguno en la UCI”\\n\\nI la…',\n",
       " 'context_annotations': [{'domain': {'id': '123',\n",
       "    'name': 'Ongoing News Story',\n",
       "    'description': \"Ongoing News Stories like 'Brexit'\"},\n",
       "   'entity': {'id': '1220701888179359745', 'name': 'COVID-19'}}],\n",
       " 'author_id': '1380038028484345857',\n",
       " 'created_at': '2021-05-11T23:59:59.000Z',\n",
       " 'id': '1392268281181089799',\n",
       " 'user': {'username': 'targaryen88',\n",
       "  'name': 'Targaryen88',\n",
       "  'id': '1380038028484345857',\n",
       "  'created_at': '2021-04-08T06:01:40.000Z'}}"
      ]
     },
     "execution_count": 24,
     "metadata": {},
     "output_type": "execute_result"
    }
   ],
   "source": [
    "tweets[0]"
   ]
  },
  {
   "cell_type": "markdown",
   "id": "d9e20a27-32a6-47e3-8866-ab109531a42c",
   "metadata": {},
   "source": [
    "## Full archival path endpoint"
   ]
  },
  {
   "cell_type": "code",
   "execution_count": 7,
   "id": "8935c20e-5952-4b68-901b-2b61e0a69959",
   "metadata": {},
   "outputs": [
    {
     "name": "stdout",
     "output_type": "stream",
     "text": [
      "200\n",
      "{\n",
      "    \"data\": [\n",
      "        {\n",
      "            \"author_id\": \"14104570\",\n",
      "            \"id\": \"1393194226452684809\",\n",
      "            \"text\": \"Hey @jack from @twitter. Could you all add spaces\\u2019 voice chat to direct messages? \\n\\n@instagram has the direct call feature already.\\n\\nEveryone wins with competition.\\n\\nI bet someone at the @TwitterDev could make this happen by the end of the day. \\n\\n#TwitterDev #TwitterDevFlex\"\n",
      "        },\n",
      "        {\n",
      "            \"author_id\": \"2244994945\",\n",
      "            \"id\": \"1392887366507970561\",\n",
      "            \"text\": \"If you use R code to do research with the #TwitterAPI, you won't want to miss this.\\n\\nWe\\u2019re hosting @cbarrie and @justin_ct_ho who built the academictwitteR package: https://t.co/Of3i08APR4 #rstats \\n\\nTune in next Thursday the 20th at 10am PT on https://t.co/GrtBOXyHmB. \\ud83d\\udc40\"\n",
      "        },\n",
      "        {\n",
      "            \"author_id\": \"73916222\",\n",
      "            \"id\": \"1392492479732199430\",\n",
      "            \"text\": \"@ReallySwara There's no dislike button ....\\n#jackdorsey #twitterdev can you add a dislike button for every tweet put up by this lady?\"\n",
      "        },\n",
      "        {\n",
      "            \"author_id\": \"2244994945\",\n",
      "            \"id\": \"1392465179196100620\",\n",
      "            \"text\": \"If you\\u2019re a developer building tools for #Covid19IndiaHelp using the #TwitterAPI, DM us and let us know if we can help.\\n \\nLearn more about the work our teams are doing to support those using our service in India here: https://t.co/eokAnHWCfT\"\n",
      "        },\n",
      "        {\n",
      "            \"author_id\": \"2244994945\",\n",
      "            \"id\": \"1392465178260774912\",\n",
      "            \"text\": \"@Sprinklr\\u2019s platform provides simple access to real-time, publicly available conversations on Twitter to find medicine, hospital beds, plasma and more. \\nhttps://t.co/ZLR97kSg8W\"\n",
      "        },\n",
      "        {\n",
      "            \"author_id\": \"2244994945\",\n",
      "            \"id\": \"1392465177337991173\",\n",
      "            \"text\": \"@_shikharsaxena &amp; @BuliaSidddharth\\u2019s CovidVerified makes it easier for on-the-ground volunteers to share and verify new information quickly as they work to coordinate the availability and fulfilment of requests related to oxygen, hospital beds, and more: https://t.co/4lbC106yUz\"\n",
      "        },\n",
      "        {\n",
      "            \"author_id\": \"2244994945\",\n",
      "            \"id\": \"1392465176364941315\",\n",
      "            \"text\": \"To surface the most recent Tweets about COVID-19 resources and requests and help people get in touch with verified sources, @dhruva_shivam and Mahendra Rathod developed CovidTweet, using the filtered stream endpoint in the #TwitterAPI v2. Check it out: https://t.co/4PhDeYsyE8\"\n",
      "        },\n",
      "        {\n",
      "            \"author_id\": \"2244994945\",\n",
      "            \"id\": \"1392465175488258050\",\n",
      "            \"text\": \"@umanghome and @sri_mash created websites that make it easier for people to run an advanced search on Twitter, so they can look by location + specific keywords for what they are looking for, like oxygen tanks near me: https://t.co/K9Tb2jd7js or https://t.co/1mcz54Bexu\"\n",
      "        },\n",
      "        {\n",
      "            \"author_id\": \"2244994945\",\n",
      "            \"id\": \"1392465174708187137\",\n",
      "            \"text\": \"As the #covid19 crisis continues in India, developers are using the #TwitterAPI to build important apps &amp; tools to help people find critical info about things like medical services, oxygen, medicine, food, and more. Here are just a few \\ud83e\\uddf5\\ud83d\\udc47\"\n",
      "        },\n",
      "        {\n",
      "            \"author_id\": \"2728150468\",\n",
      "            \"id\": \"1392425302547124224\",\n",
      "            \"text\": \"Twitter as a web app is really good. Like you don't have to worry about missing a post when you leave the app. It'll surely continue from where you left off. #Twitter and #twitterdev hats off to you\"\n",
      "        }\n",
      "    ],\n",
      "    \"meta\": {\n",
      "        \"newest_id\": \"1393194226452684809\",\n",
      "        \"next_token\": \"b26v89c19zqg8o3foswrelabbc5xvmu8l42h4e6ilkhvh\",\n",
      "        \"oldest_id\": \"1392425302547124224\",\n",
      "        \"result_count\": 10\n",
      "    }\n",
      "}\n"
     ]
    }
   ],
   "source": [
    "# To set your environment variables in your terminal run the following line:\n",
    "# export 'BEARER_TOKEN'='<your_bearer_token>'\n",
    "#bearer_token = os.environ.get(\"BEARER_TOKEN\")\n",
    "bearer_token = API_info['bearer_token']\n",
    "\n",
    "# full archival path endpoint\n",
    "search_url = \"https://api.twitter.com/2/tweets/search/all\"\n",
    "\n",
    "# Optional params: start_time,end_time,since_id,until_id,max_results,next_token,\n",
    "# expansions,tweet.fields,media.fields,poll.fields,place.fields,user.fields\n",
    "query_params = {'query': '(from:twitterdev -is:retweet) OR #twitterdev',\n",
    "                'tweet.fields': 'author_id'}\n",
    "\n",
    "\n",
    "def create_headers(bearer_token):\n",
    "    headers = {\"Authorization\": \"Bearer {}\".format(bearer_token)}\n",
    "    return headers\n",
    "\n",
    "\n",
    "def connect_to_endpoint(url, headers, params):\n",
    "    response = requests.request(\"GET\", search_url, headers=headers, params=params)\n",
    "    print(response.status_code)\n",
    "    if response.status_code != 200:\n",
    "        raise Exception(response.status_code, response.text)\n",
    "    return response.json()\n",
    "\n",
    "\n",
    "headers = create_headers(bearer_token)\n",
    "json_response = connect_to_endpoint(search_url, headers, query_params)\n",
    "print(json.dumps(json_response, indent=4, sort_keys=True))\n"
   ]
  },
  {
   "cell_type": "code",
   "execution_count": null,
   "id": "julian-ceiling",
   "metadata": {},
   "outputs": [],
   "source": []
  }
 ],
 "metadata": {
  "kernelspec": {
   "display_name": "Python 3",
   "language": "python",
   "name": "python3"
  },
  "language_info": {
   "codemirror_mode": {
    "name": "ipython",
    "version": 3
   },
   "file_extension": ".py",
   "mimetype": "text/x-python",
   "name": "python",
   "nbconvert_exporter": "python",
   "pygments_lexer": "ipython3",
   "version": "3.9.4"
  }
 },
 "nbformat": 4,
 "nbformat_minor": 5
}
